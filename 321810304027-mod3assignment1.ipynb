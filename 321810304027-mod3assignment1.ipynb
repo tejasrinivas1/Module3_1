{
 "cells": [
  {
   "cell_type": "code",
   "execution_count": 3,
   "metadata": {},
   "outputs": [
    {
     "name": "stdout",
     "output_type": "stream",
     "text": [
      "4\n",
      "2\n"
     ]
    }
   ],
   "source": [
    "def fibonacci(n): \n",
    "    a = 0\n",
    "    b = 1\n",
    "    if n < 0: \n",
    "        print(\"Incorrect input\") \n",
    "    elif n == 0: \n",
    "        return a \n",
    "    elif n == 1: \n",
    "        return b \n",
    "    else: \n",
    "        for i in range(2,n): \n",
    "            c = a + b \n",
    "            a = b \n",
    "            b = c \n",
    "        return b \n",
    "n=int(input())  \n",
    "print(fibonacci(n)) "
   ]
  },
  {
   "cell_type": "code",
   "execution_count": 9,
   "metadata": {},
   "outputs": [
    {
     "name": "stdout",
     "output_type": "stream",
     "text": [
      "54\n",
      "54 x 1 = 54\n",
      "54 x 2 = 108\n",
      "54 x 3 = 162\n",
      "54 x 4 = 216\n",
      "54 x 5 = 270\n",
      "54 x 6 = 324\n",
      "54 x 7 = 378\n",
      "54 x 8 = 432\n",
      "54 x 9 = 486\n",
      "54 x 10 = 540\n"
     ]
    }
   ],
   "source": [
    "n = int(input())\n",
    "for i in range(1, 11):\n",
    "   print(n, 'x', i, '=', n*i)"
   ]
  },
  {
   "cell_type": "code",
   "execution_count": 11,
   "metadata": {},
   "outputs": [
    {
     "name": "stdout",
     "output_type": "stream",
     "text": [
      "30\n",
      "24\n",
      "The H.C.F. is 6\n"
     ]
    }
   ],
   "source": [
    "def gcd(x,y):\n",
    "    if x > y:\n",
    "        smaller = y\n",
    "    else:\n",
    "        smaller = x\n",
    "    for i in range(1, smaller+1):\n",
    "        if((x % i == 0) and (y % i == 0)):\n",
    "            gcd = i \n",
    "    return gcd\n",
    "n1 = int(input())\n",
    "n2 = int(input())\n",
    "print(\"The H.C.F. is\",gcd(n1, n2))"
   ]
  },
  {
   "cell_type": "code",
   "execution_count": 13,
   "metadata": {},
   "outputs": [
    {
     "name": "stdout",
     "output_type": "stream",
     "text": [
      "even count= 3  odd count= 3\n"
     ]
    }
   ],
   "source": [
    "list1=[1,2,3,4,5,6]\n",
    "count1,count2=0,0\n",
    "for num in list1:\n",
    "    if num%2==0:\n",
    "       count1+=1\n",
    "    else:\n",
    "       count2+=1\n",
    "print('even count=',count1,' odd count=',count2)"
   ]
  },
  {
   "cell_type": "code",
   "execution_count": 15,
   "metadata": {},
   "outputs": [
    {
     "name": "stdout",
     "output_type": "stream",
     "text": [
      "0\n",
      "1\n",
      "2\n",
      "4\n",
      "5\n"
     ]
    }
   ],
   "source": [
    "for i in range(0,6):\n",
    "   if(i!=3 and i!=6):\n",
    "     print(i)"
   ]
  }
 ],
 "metadata": {
  "kernelspec": {
   "display_name": "Python 3",
   "language": "python",
   "name": "python3"
  },
  "language_info": {
   "codemirror_mode": {
    "name": "ipython",
    "version": 3
   },
   "file_extension": ".py",
   "mimetype": "text/x-python",
   "name": "python",
   "nbconvert_exporter": "python",
   "pygments_lexer": "ipython3",
   "version": "3.7.6"
  }
 },
 "nbformat": 4,
 "nbformat_minor": 4
}
